{
 "cells": [
  {
   "cell_type": "code",
   "execution_count": 1,
   "metadata": {},
   "outputs": [],
   "source": [
    "import rebound\n",
    "import numpy as np\n",
    "import math\n",
    "import matplotlib.pyplot as plt\n",
    "import csv\n",
    "from matplotlib import animation\n",
    "from matplotlib import colors as mcolors\n",
    "from IPython.display import HTML, Image\n",
    "\n",
    "class BlackHoleSimulation:\n",
    "    g = 4*np.pi**2 \n",
    "    units = ['Au', 'yr', 'Msun']\n",
    "    \n",
    "    #initialize Black Hole Class\n",
    "    def __init__(self, starA, starB, semi = 1, blackhole = [100,0,100], phase = 0, binary_init_v = 10):\n",
    "        self.sim = rebound.Simulation()\n",
    "        self.sim.G = self.g \n",
    "        self.semi = semi\n",
    "        self.phase = phase\n",
    "        self.initial_v = binary_init_v\n",
    "        self.sim.units = self.units\n",
    "        self.sim.add(m=starA, a = semi)\n",
    "        self.sim.add(m=starB)\n",
    "        self.sim.add(m=blackhole[0], x= -1*blackhole[1],y= -1*blackhole[2])\n",
    "        self.sim.particles[1].y += math.tan(phase*math.pi/180)*semi\n",
    "        print(\"Star A:\",self.sim.particles[0].x, self.sim.particles[0].y, \"Star B:\", self.sim.particles[1].x, self.sim.particles[1].y)\n",
    "        self.sim.particles[0].vx=-0.210945021 * self.initial_v\n",
    "        self.sim.particles[1].vx=-0.210945021 * self.initial_v\n",
    "        self.sim.move_to_com()\n",
    "        self.starA = self.sim.particles[0]\n",
    "        self.starB = self.sim.particles[1]\n",
    "        self.blackhole = self.sim.particles[2]\n",
    "        #stores data on stars\n",
    "        self.starA_x ,self.starA_y, self.starA_z = [],[],[]\n",
    "        self.starB_x, self.starB_y, self.starB_z = [],[],[]\n",
    "        self.starA_v, self.starA_a = [],[]\n",
    "        self.starB_v, self.starB_a = [],[]\n",
    "        \n",
    "    #converts Au to Km/s \n",
    "    def unit_converter(self,unconverted, unit): \n",
    "        if unit == \"AuToKms\":\n",
    "            converted = (unconverted * 4.74)\n",
    "        elif unit == \"AuToKms^2\":\n",
    "            converted = (unconverted * 1.50222861e-7)\n",
    "        return converted\n",
    "    \n",
    "    #distance calculator\n",
    "    def calculate_distance(self,star, blackhole):\n",
    "        distance = np.sqrt(np.square(star.x - blackhole.x) + np.square(star.y - blackhole.y))\n",
    "        return distance\n",
    "    \n",
    "    #integrate the simulation\n",
    "    def run_simulation(self, endtime, outputs):\n",
    "        times = np.linspace(0,endtime,outputs) #(start,finish, number of data points)\n",
    "        self.timeList = times.tolist() \n",
    "        self.outputs = outputs\n",
    "        self.endtime = endtime\n",
    "        for i,times in enumerate(times): #integrate simulation \n",
    "            self.starA_x.append(self.starA.x)\n",
    "            self.starA_y.append(self.starA.y) \n",
    "            self.starA_z.append(self.starA.z) \n",
    "            self.starB_x.append(self.starB.x)\n",
    "            self.starB_y.append(self.starB.y)\n",
    "            self.starB_z.append(self.starA.z)\n",
    "            self.starA_v.append(self.unit_converter(((self.starA.vx**2) + (self.starA.vy**2) + (self.starA.vz**2))**(.5),\"AuToKms\"))\n",
    "            self.starB_v.append(self.unit_converter(((self.starB.vx**2) + (self.starB.vy**2) + (self.starB.vz**2))**(.5),\"AuToKms\"))\n",
    "            self.starA_a.append(self.unit_converter(((self.starA.ax**2) + (self.starA.ay**2) + (self.starA.az**2))**(.5),\"AuToKms^2\"))\n",
    "            self.starB_a.append(self.unit_converter(((self.starB.ax**2) + (self.starB.ay**2) + (self.starB.az**2))**(.5),\"AuToKms^2\"))\n",
    "            self.sim.integrate(times)\n",
    "\n",
    "    #returns maximum velocities of stars\n",
    "    def get_velocity(self,command):\n",
    "        if command == \"i\":\n",
    "            return \"Star A initial velocity: \", self.starA_v[0], \"Star B initial velocity: \", self.starB_v[0]\n",
    "        elif command == \"f\":\n",
    "            return \"Star A final velocity: \", self.starA_v[self.outputs-1], \"Star B final velocity: \", self.starB_v[self.outputs-1]\n",
    "        elif command == \"max\":\n",
    "            return \"Star A max velocity: \", max(self.starA_v), \"Star B max velocity: \", max(self.starB_v)\n",
    "        else:\n",
    "            return \"Please enter valid command(i,f,max)\"\n",
    "    \n",
    "    #plots a x vs. y position graph for both stars\n",
    "    def get_position_graph(self):\n",
    "        #star A \n",
    "        plt.subplot(2,2,1)\n",
    "        plt.plot(self.starA_x,self.starA_y)\n",
    "        plt.plot(self.blackhole.x,self.blackhole.y,'b.')\n",
    "        plt.title(\"Position of Star A\")\n",
    "        plt.xlabel(\"X-position(Au)\")\n",
    "        plt.ylabel(\"Y-position(Au)\")\n",
    "\n",
    "        #star B\n",
    "        plt.subplot(2,2,2)\n",
    "        plt.plot(self.starB_x,self.starB_y)\n",
    "        plt.plot(self.blackhole.x,self.blackhole.y,'b.')\n",
    "        plt.title(\"Position of Star B\")\n",
    "        plt.xlabel(\"X-position(Au)\")\n",
    "        plt.ylabel(\"Y-position(Au)\")\n",
    "        plt.tight_layout()\n",
    "        plt.show()\n",
    "    \n",
    "    #creates scatter plot. Takes the min and max of each axis.\n",
    "    def create_scatter(self, xmin, xmax, ymin, ymax):\n",
    "        fig = plt.figure()\n",
    "        ax = plt.axes(xlim=(xmin,xmax), ylim=(ymin, ymax))#set axis\n",
    "        plt.plot(self.starA_x,self.starA_y)#plot star a\n",
    "        plt.plot(self.starB_x,self.starB_y)#plot star b\n",
    "        plt.plot(self.blackhole.x,self.blackhole.y,'b.')#plot black hole\n",
    "        plt.xlabel(\"X-pos(Au)\")\n",
    "        plt.ylabel(\"Y-pos(Au)\")\n",
    "        plt.show()\n",
    "        \n",
    "        fig.savefig(\"BH\" + str(self.sim.particles[2].m) + \"_Bi\" + str(self.sim.particles[0].m)+\"_a\"+ str(self.semi) +\"_p\" + str(self.phase) +\"_v\" + str(self.initial_v) + \".png\")\n",
    "\n",
    "    #creates csv file for data points collected\n",
    "    def create_CSV(self):\n",
    "        with open(\"BH\" + str(self.sim.particles[2].m) + \"_Bi\" + str(self.sim.particles[0].m)+\"_a\"+ str(self.semi) +\"_p\" + str(self.phase) + \"_v\" + str(self.initial_v) +\".csv\", 'w', newline='') as csvfile:\n",
    "            fieldnames = ['Star A X-pos(AU)', 'Star A Y-pos(AU)','Star B X-pos(AU)', 'Star B Y-pos(AU)', 'Star A Velocity(Km/s)','Star B Velocity(Km/s)', 'Star A Acceleration(Km/s^2)', 'Star B Acceleration(Km/s^2)', 'time(yr)']\n",
    "            writer = csv.DictWriter(csvfile, fieldnames=fieldnames)\n",
    "            writer.writeheader()\n",
    "            for i in range(0,self.outputs):\n",
    "                 writer.writerow({'Star A X-pos(AU)': str(self.starA_x[i]), 'Star A Y-pos(AU)': str(self.starA_y[i]), 'Star B X-pos(AU)': str(self.starB_x[i]), 'Star B Y-pos(AU)': str(self.starB_y[i]), 'Star A Velocity(Km/s)': str(self.starA_v[i]), 'Star B Velocity(Km/s)': str(self.starB_v[i]),'Star A Acceleration(Km/s^2)': str(self.starA_a[i]), 'Star B Acceleration(Km/s^2)': str(self.starB_a[i]), 'time(yr)': str(self.timeList[i])})    \n",
    "    \n",
    "    #creates animation. Specify start and end of animation\n",
    "    def animate_simulation(self, start, end, axis, title=\"Animation\", fps=60, option=0):\n",
    "        fig = plt.figure()\n",
    "        ax = plt.axes(xlim=(axis[0], axis[1]), ylim=(axis[2], axis[3]))\n",
    "        graph = plt.scatter([], [], s=2)\n",
    "        graph2 = plt.scatter([], [], s=2)\n",
    "        graph.set_facecolors('b')\n",
    "        graph2.set_facecolors('r')\n",
    "        time_text = ax.text(0.1, 0.9, '', transform=ax.transAxes)\n",
    "        starA_v_text = ax.text(0.1,0.85,'',transform=ax.transAxes)\n",
    "        starB_v_text = ax.text(0.1,0.80,'',transform=ax.transAxes)\n",
    "        plt.plot(self.blackhole.x,self.blackhole.y,'b.')\n",
    "        plt.title(\"Black Hole and Binary Star System\", bbox={'facecolor':'blue', 'alpha':0.3, 'pad':10})\n",
    "        plt.xlabel(\"X-position(Au)\")\n",
    "        plt.ylabel(\"Y-position(Au)\")\n",
    "        totalFrames = int(self.outputs*((end-start)/self.endtime))\n",
    "        startFrame = int(self.outputs/self.endtime*start)\n",
    "        print(\"total frames: \", totalFrames, \"start frame: \",startFrame)\n",
    "        \n",
    "        # animation function.  This is called sequentially\n",
    "        def animate(i):\n",
    "            #plt.plot(self.starA_x[startFrame:i+startFrame],self.starA_y[startFrame:i+startFrame])\n",
    "            #plt.plot(self.starB_x[startFrame:i+startFrame],self.starB_y[startFrame:i+startFrame])\n",
    "            time_text.set_text('Time(yr): ' + str(int(self.timeList[i+startFrame])))\n",
    "            starA_v_text.set_text('Star A Velocity: ' + str(int(self.starA_v[i+startFrame])) + ' km/s')\n",
    "            starB_v_text.set_text('Star B Velocity: ' + str(int(self.starB_v[i+startFrame])) + ' km/s')\n",
    "            if option == 0:\n",
    "                graph.set_offsets(np.vstack((self.starA_x[startFrame:i+startFrame], self.starA_y[startFrame:i+startFrame])).T)\n",
    "                graph2.set_offsets(np.vstack((self.starB_x[startFrame:i+startFrame], self.starB_y[startFrame:i+startFrame])).T)\n",
    "            elif option == 1:\n",
    "                plt.plot(self.starA_x[0:i*10],self.starA_y[0:i*10])\n",
    "                plt.plot(self.starB_x[0:i*10],self.starB_y[0:i*10])\n",
    "            return graph,\n",
    "        \n",
    "        # call the animator\n",
    "        anim = animation.FuncAnimation(fig, animate, frames=totalFrames, interval=20, blit=True)\n",
    "        anim.save(title+'.mp4', fps=fps, extra_args=['-vcodec', 'libx264'])\n",
    "        HTML(anim.to_html5_video())\n",
    "        "
   ]
  },
  {
   "cell_type": "code",
   "execution_count": 50,
   "metadata": {},
   "outputs": [
    {
     "name": "stdout",
     "output_type": "stream",
     "text": [
      "Star A: 0.01 0.0 Star B: 0.0 0.005773502691896256\n"
     ]
    }
   ],
   "source": [
    "sim = BlackHoleSimulation(.1,.1,semi = .01, blackhole = [100,0,100], phase = 30, binary_init_v=15) #(Star A mass, Star B mass, Semi, black hole[mass,x,y])"
   ]
  },
  {
   "cell_type": "code",
   "execution_count": 51,
   "metadata": {},
   "outputs": [
    {
     "name": "stdout",
     "output_type": "stream",
     "text": [
      "CPU times: user 30min 16s, sys: 16 s, total: 30min 32s\n",
      "Wall time: 31min 38s\n"
     ]
    }
   ],
   "source": [
    "%time sim.run_simulation(50,25000)"
   ]
  },
  {
   "cell_type": "code",
   "execution_count": 52,
   "metadata": {},
   "outputs": [
    {
     "data": {
      "image/png": "[encoded data removed]",
      "text/plain": [
       "<matplotlib.figure.Figure at 0x11bb33a90>"
      ]
     },
     "metadata": {},
     "output_type": "display_data"
    }
   ],
   "source": [
    "sim.create_scatter(-100,1,-1.5,500)"
   ]
  },
  {
   "cell_type": "code",
   "execution_count": 53,
   "metadata": {},
   "outputs": [],
   "source": [
    "sim.create_CSV()"
   ]
  },
  {
   "cell_type": "code",
   "execution_count": 23,
   "metadata": {},
   "outputs": [
    {
     "data": {
      "text/plain": [
       "('Star A final velocity: ',\n",
       " 72.77832879742856,\n",
       " 'Star B final velocity: ',\n",
       " 66.68495435562421)"
      ]
     },
     "execution_count": 23,
     "metadata": {},
     "output_type": "execute_result"
    }
   ],
   "source": [
    "sim.get_velocity(\"f\")"
   ]
  },
  {
   "cell_type": "code",
   "execution_count": null,
   "metadata": {},
   "outputs": [],
   "source": [
    "ansSet= False\n",
    "\n",
    "inputs = []\n",
    "\n",
    "def get_input():\n",
    "    A_mass = input(\"Star A Mass(Msun): \")\n",
    "    B_mass = input(\"Star B Mass(Msun): \")\n",
    "    Semi = input(\"Semi-Major Axis(Au): \")\n",
    "    bh_mass = input(\"Black Hole Mass(Msun): \")\n",
    "    bh_pos = input(\"Initial Coordinates of Binary System(x,y): \")\n",
    "    #starA = [float(A_info[0:A_info.find(\",\")]), float(A_info[A_info.find(\",\")+1:])]\n",
    "    #starB = [float(B_info[0:B_info.find(\",\")]), float(B_info[B_info.find(\",\")+1:])]\n",
    "    blackhole = [float(bh_mass), float(bh_pos[0:bh_pos.find(\",\")]), float(bh_pos[bh_pos.find(\",\")+1:])]\n",
    "    inputs.append(float(A_mass))\n",
    "    inputs.append(float(B_mass))\n",
    "    inputs.append(float(Semi))\n",
    "    inputs.append(blackhole)\n",
    "    return True "
   ]
  },
  {
   "cell_type": "code",
   "execution_count": null,
   "metadata": {},
   "outputs": [],
   "source": [
    "ans = input(\"Would you like rewrite the previous parameters entered?(y/n): \")\n",
    "\n",
    "if(ans == \"y\"):\n",
    "    ansSet = get_input()\n",
    "    \n",
    "elif(ans == \"n\" and ansSet == False):\n",
    "    print(\"You have not entered any parameters\")\n",
    "    while(ansSet == False):\n",
    "        ansSet = getInput()\n",
    "sim = BlackHoleSimulation(inputs[0],inputs[1],inputs[2],inputs[3]) #(Star A mass, Star B mass, Semi, black hole[mass,x,y])"
   ]
  },
  {
   "cell_type": "code",
   "execution_count": null,
   "metadata": {},
   "outputs": [],
   "source": []
  }
 ],
 "metadata": {
  "kernelspec": {
   "display_name": "Python 3",
   "language": "python",
   "name": "python3"
  },
  "language_info": {
   "codemirror_mode": {
    "name": "ipython",
    "version": 3
   },
   "file_extension": ".py",
   "mimetype": "text/x-python",
   "name": "python",
   "nbconvert_exporter": "python",
   "pygments_lexer": "ipython3",
   "version": "3.6.3"
  }
 },
 "nbformat": 4,
 "nbformat_minor": 2
}
